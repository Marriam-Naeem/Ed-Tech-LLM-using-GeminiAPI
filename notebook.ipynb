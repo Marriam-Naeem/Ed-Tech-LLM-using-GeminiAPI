{
 "cells": [
  {
   "cell_type": "code",
   "execution_count": 10,
   "metadata": {},
   "outputs": [],
   "source": [
    "import os\n",
    "from dotenv import load_dotenv\n",
    "from langchain_google_genai import ChatGoogleGenerativeAI\n",
    "from langchain.prompts import PromptTemplate\n",
    "from langchain.chains import LLMChain\n",
    "from langchain_core.prompts import ChatPromptTemplate"
   ]
  },
  {
   "cell_type": "code",
   "execution_count": 30,
   "metadata": {},
   "outputs": [
    {
     "name": "stdout",
     "output_type": "stream",
     "text": [
      "Ich liebe das Programmieren. \n",
      "\n"
     ]
    }
   ],
   "source": [
    "llm = ChatGoogleGenerativeAI(\n",
    "    model=\"gemini-1.5-pro\",\n",
    "    temperature=0.1,\n",
    "    max_tokens=None,\n",
    "    timeout=None,\n",
    "    max_retries=2,\n",
    ")\n",
    "\n",
    "\n",
    "prompt = ChatPromptTemplate.from_messages(\n",
    "    [\n",
    "        (\n",
    "            \"system\",\n",
    "            \"You are a helpful assistant that translates {input_language} to {output_language}.\",\n",
    "        ),\n",
    "        (\"human\", \"{input}\"),\n",
    "    ]\n",
    ")\n",
    "\n",
    "chain = prompt | llm\n",
    "response = chain.invoke(\n",
    "    {\n",
    "        \"input_language\": \"English\",\n",
    "        \"output_language\": \"German\",\n",
    "        \"input\": \"I love programming.\",\n",
    "    }\n",
    ")\n",
    "print(response.content)"
   ]
  },
  {
   "cell_type": "code",
   "execution_count": 29,
   "metadata": {},
   "outputs": [
    {
     "name": "stdout",
     "output_type": "stream",
     "text": [
      "## The Enigmatic Allure of the Cat\n",
      "\n",
      "The cat. A creature of contradictions, simultaneously aloof and affectionate, playful and poised, a hunter with a purr that melts the heart. For millennia, cats have captivated humanity, weaving their way into our homes and hearts, their enigmatic nature a source of endless fascination. \n",
      "\n",
      "Unlike their canine counterparts, cats retain an air of independence, a vestige of their wild ancestry. They are masters of their domain, dictating terms of affection and demanding respect for their boundaries. This independent spirit, often misconstrued as aloofness, is part of the feline mystique. They are not easily won, their love a hard-earned privilege, making their moments of tenderness all the more precious. \n",
      "\n",
      "Yet, beneath the cool exterior lies a playful spirit. A sunbeam becomes a stage, a dangling string an irresistible prey, a cardboard box a fortress of solitude. Their playful antics, a whirlwind of leaps and bounds, remind us of the simple joys of life, urging us to embrace our own inner child. \n",
      "\n",
      "Beyond their captivating personalities, cats have woven themselves into the tapestry of human history. Revered in ancient Egypt as demigods, feared in medieval Europe as witches' familiars, and celebrated in modern times as beloved companions, their story is intertwined with our own. They have inspired artists and writers, their enigmatic gaze captured in countless masterpieces, their independent spirit echoing in literature and folklore.\n",
      "\n",
      "In a world increasingly dominated by technology and the relentless pace of modern life, cats offer a comforting presence. Their rhythmic purrs have been scientifically proven to lower blood pressure and reduce stress, their presence a soothing balm for the soul. They remind us to slow down, to appreciate the simple pleasures of a warm lap and a gentle caress.\n",
      "\n",
      "The cat, a creature of contradictions, a paradox wrapped in fur. They are a constant source of amusement, frustration, and above all, unconditional love. Their presence enriches our lives, reminding us of the beauty in the everyday, the power of independence, and the enduring bond between humans and animals. In their enigmatic gaze, we catch a glimpse of a world beyond our own, a world of instinct and grace, of quiet power and unwavering self-possession. And perhaps, in their unwavering gaze, we see a reflection of something we admire within ourselves. \n",
      "\n"
     ]
    }
   ],
   "source": [
    "essay = llm.invoke(\"Write an essay on cat\")\n",
    "print(essay.content)"
   ]
  },
  {
   "cell_type": "code",
   "execution_count": 32,
   "metadata": {},
   "outputs": [
    {
     "name": "stdout",
     "output_type": "stream",
     "text": [
      "Subject: Request for Extension - [Course Name] - [Your Name] - [Assignment Name]\n",
      "\n",
      "Dear Professor [Professor's Last Name],\n",
      "\n",
      "I am writing to request an extension on the [Assignment Name] due on [Original Deadline]. I am facing a family emergency that requires my immediate attention and will make it difficult for me to complete the assignment by the original deadline. \n",
      "\n",
      "[You can briefly and generally explain the situation if you feel comfortable. For example: \"I need to travel back home to be with my family.\"]\n",
      "\n",
      "I understand the importance of deadlines and I apologize for any inconvenience this may cause. I am confident that I can complete the assignment to the best of my ability if granted an extension until [Requested New Deadline]. I am happy to discuss this further at your convenience.\n",
      "\n",
      "Thank you for your understanding and support during this time.\n",
      "\n",
      "Sincerely,\n",
      "\n",
      "[Your Name]\n",
      "[Student ID] \n",
      "\n"
     ]
    }
   ],
   "source": [
    "email = llm.invoke(\"Write an email to a professor requesting an extension in the deadline of an assignment reason being a family emergancy\")\n",
    "print(email.content)"
   ]
  }
 ],
 "metadata": {
  "kernelspec": {
   "display_name": "llm",
   "language": "python",
   "name": "python3"
  },
  "language_info": {
   "codemirror_mode": {
    "name": "ipython",
    "version": 3
   },
   "file_extension": ".py",
   "mimetype": "text/x-python",
   "name": "python",
   "nbconvert_exporter": "python",
   "pygments_lexer": "ipython3",
   "version": "3.9.20"
  }
 },
 "nbformat": 4,
 "nbformat_minor": 2
}
